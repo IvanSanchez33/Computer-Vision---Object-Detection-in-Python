{
  "nbformat": 4,
  "nbformat_minor": 0,
  "metadata": {
    "accelerator": "GPU",
    "colab": {
      "name": "AP",
      "provenance": [],
      "collapsed_sections": [],
      "authorship_tag": "ABX9TyMnWtqLAlDjhcP03UIs8Si1",
      "include_colab_link": true
    },
    "kernelspec": {
      "display_name": "Python 3",
      "name": "python3"
    },
    "language_info": {
      "name": "python"
    }
  },
  "cells": [
    {
      "cell_type": "markdown",
      "metadata": {
        "id": "view-in-github",
        "colab_type": "text"
      },
      "source": [
        "<a href=\"https://colab.research.google.com/github/IvanSanchez33/Computer-Vision---Object-Detection-in-Python/blob/master/AP.ipynb\" target=\"_parent\"><img src=\"https://colab.research.google.com/assets/colab-badge.svg\" alt=\"Open In Colab\"/></a>"
      ]
    },
    {
      "cell_type": "code",
      "metadata": {
        "colab": {
          "base_uri": "https://localhost:8080/"
        },
        "id": "0nu5-B-FErpZ",
        "outputId": "2d535593-74f7-4e11-c209-376d783bacda"
      },
      "source": [
        "!git clone https://github.com/eriklindernoren/PyTorch-YOLOv3.git\n",
        "%cd PyTorch-YOLOv3\n"
      ],
      "execution_count": null,
      "outputs": [
        {
          "name": "stdout",
          "output_type": "stream",
          "text": [
            "Cloning into 'PyTorch-YOLOv3'...\n",
            "remote: Enumerating objects: 1710, done.\u001b[K\n",
            "remote: Counting objects: 100% (35/35), done.\u001b[K\n",
            "remote: Compressing objects: 100% (33/33), done.\u001b[K\n",
            "remote: Total 1710 (delta 14), reused 12 (delta 2), pack-reused 1675\u001b[K\n",
            "Receiving objects: 100% (1710/1710), 16.47 MiB | 31.99 MiB/s, done.\n",
            "Resolving deltas: 100% (1021/1021), done.\n",
            "/content/PyTorch-YOLOv3\n"
          ]
        }
      ]
    },
    {
      "cell_type": "code",
      "metadata": {
        "colab": {
          "base_uri": "https://localhost:8080/"
        },
        "id": "lL1kSJT2FHdQ",
        "outputId": "d1ec46aa-a2bc-4044-e0be-e8b0f95e5fa0"
      },
      "source": [
        "!pip install poetry"
      ],
      "execution_count": 45,
      "outputs": [
        {
          "output_type": "stream",
          "name": "stdout",
          "text": [
            "Requirement already satisfied: poetry in /root/.local/lib/python3.7/site-packages (1.1.11)\n",
            "Requirement already satisfied: crashtest<0.4.0,>=0.3.0 in /root/.local/lib/python3.7/site-packages (from poetry) (0.3.1)\n",
            "Requirement already satisfied: importlib-metadata<2.0.0,>=1.6.0 in /root/.local/lib/python3.7/site-packages (from poetry) (1.7.0)\n",
            "Requirement already satisfied: pexpect<5.0.0,>=4.7.0 in /usr/local/lib/python3.7/dist-packages (from poetry) (4.8.0)\n",
            "Requirement already satisfied: poetry-core<1.1.0,>=1.0.7 in /root/.local/lib/python3.7/site-packages (from poetry) (1.0.7)\n",
            "Requirement already satisfied: html5lib<2.0,>=1.0 in /usr/local/lib/python3.7/dist-packages (from poetry) (1.0.1)\n",
            "Requirement already satisfied: tomlkit<1.0.0,>=0.7.0 in /root/.local/lib/python3.7/site-packages (from poetry) (0.7.2)\n",
            "Requirement already satisfied: keyring<22.0.0,>=21.2.0 in /root/.local/lib/python3.7/site-packages (from poetry) (21.8.0)\n",
            "Requirement already satisfied: clikit<0.7.0,>=0.6.2 in /root/.local/lib/python3.7/site-packages (from poetry) (0.6.2)\n",
            "Requirement already satisfied: virtualenv<21.0.0,>=20.0.26 in /root/.local/lib/python3.7/site-packages (from poetry) (20.8.1)\n",
            "Requirement already satisfied: cachy<0.4.0,>=0.3.0 in /root/.local/lib/python3.7/site-packages (from poetry) (0.3.0)\n",
            "Requirement already satisfied: cachecontrol[filecache]<0.13.0,>=0.12.4 in /usr/local/lib/python3.7/dist-packages (from poetry) (0.12.6)\n",
            "Requirement already satisfied: packaging<21.0,>=20.4 in /root/.local/lib/python3.7/site-packages (from poetry) (20.9)\n",
            "Requirement already satisfied: shellingham<2.0,>=1.1 in /root/.local/lib/python3.7/site-packages (from poetry) (1.4.0)\n",
            "Requirement already satisfied: requests-toolbelt<0.10.0,>=0.9.1 in /root/.local/lib/python3.7/site-packages (from poetry) (0.9.1)\n",
            "Requirement already satisfied: pkginfo<2.0,>=1.4 in /root/.local/lib/python3.7/site-packages (from poetry) (1.7.1)\n",
            "Requirement already satisfied: requests<3.0,>=2.18 in /usr/local/lib/python3.7/dist-packages (from poetry) (2.26.0)\n",
            "Requirement already satisfied: cleo<0.9.0,>=0.8.1 in /root/.local/lib/python3.7/site-packages (from poetry) (0.8.1)\n",
            "Requirement already satisfied: msgpack>=0.5.2 in /usr/local/lib/python3.7/dist-packages (from cachecontrol[filecache]<0.13.0,>=0.12.4->poetry) (1.0.2)\n",
            "Requirement already satisfied: lockfile>=0.9 in /root/.local/lib/python3.7/site-packages (from cachecontrol[filecache]<0.13.0,>=0.12.4->poetry) (0.12.2)\n",
            "Requirement already satisfied: pastel<0.3.0,>=0.2.0 in /root/.local/lib/python3.7/site-packages (from clikit<0.7.0,>=0.6.2->poetry) (0.2.1)\n",
            "Requirement already satisfied: pylev<2.0,>=1.3 in /root/.local/lib/python3.7/site-packages (from clikit<0.7.0,>=0.6.2->poetry) (1.4.0)\n",
            "Requirement already satisfied: six>=1.9 in /usr/local/lib/python3.7/dist-packages (from html5lib<2.0,>=1.0->poetry) (1.15.0)\n",
            "Requirement already satisfied: webencodings in /usr/local/lib/python3.7/dist-packages (from html5lib<2.0,>=1.0->poetry) (0.5.1)\n",
            "Requirement already satisfied: zipp>=0.5 in /usr/local/lib/python3.7/dist-packages (from importlib-metadata<2.0.0,>=1.6.0->poetry) (3.6.0)\n",
            "Requirement already satisfied: jeepney>=0.4.2 in /root/.local/lib/python3.7/site-packages (from keyring<22.0.0,>=21.2.0->poetry) (0.7.1)\n",
            "Requirement already satisfied: SecretStorage>=3.2 in /root/.local/lib/python3.7/site-packages (from keyring<22.0.0,>=21.2.0->poetry) (3.3.1)\n",
            "Requirement already satisfied: pyparsing>=2.0.2 in /usr/local/lib/python3.7/dist-packages (from packaging<21.0,>=20.4->poetry) (2.4.7)\n",
            "Requirement already satisfied: ptyprocess>=0.5 in /usr/local/lib/python3.7/dist-packages (from pexpect<5.0.0,>=4.7.0->poetry) (0.7.0)\n",
            "Requirement already satisfied: certifi>=2017.4.17 in /usr/local/lib/python3.7/dist-packages (from requests<3.0,>=2.18->poetry) (2021.5.30)\n",
            "Requirement already satisfied: urllib3<1.27,>=1.21.1 in /usr/local/lib/python3.7/dist-packages (from requests<3.0,>=2.18->poetry) (1.26.6)\n",
            "Requirement already satisfied: idna<4,>=2.5 in /usr/local/lib/python3.7/dist-packages (from requests<3.0,>=2.18->poetry) (2.10)\n",
            "Requirement already satisfied: charset-normalizer~=2.0.0 in /usr/local/lib/python3.7/dist-packages (from requests<3.0,>=2.18->poetry) (2.0.6)\n",
            "Requirement already satisfied: cryptography>=2.0 in /root/.local/lib/python3.7/site-packages (from SecretStorage>=3.2->keyring<22.0.0,>=21.2.0->poetry) (35.0.0)\n",
            "Requirement already satisfied: cffi>=1.12 in /usr/local/lib/python3.7/dist-packages (from cryptography>=2.0->SecretStorage>=3.2->keyring<22.0.0,>=21.2.0->poetry) (1.14.6)\n",
            "Requirement already satisfied: pycparser in /usr/local/lib/python3.7/dist-packages (from cffi>=1.12->cryptography>=2.0->SecretStorage>=3.2->keyring<22.0.0,>=21.2.0->poetry) (2.20)\n",
            "Requirement already satisfied: platformdirs<3,>=2 in /root/.local/lib/python3.7/site-packages (from virtualenv<21.0.0,>=20.0.26->poetry) (2.4.0)\n",
            "Requirement already satisfied: filelock<4,>=3.0.0 in /usr/local/lib/python3.7/dist-packages (from virtualenv<21.0.0,>=20.0.26->poetry) (3.3.0)\n",
            "Requirement already satisfied: backports.entry-points-selectable>=1.0.4 in /root/.local/lib/python3.7/site-packages (from virtualenv<21.0.0,>=20.0.26->poetry) (1.1.0)\n",
            "Requirement already satisfied: distlib<1,>=0.3.1 in /root/.local/lib/python3.7/site-packages (from virtualenv<21.0.0,>=20.0.26->poetry) (0.3.3)\n"
          ]
        }
      ]
    },
    {
      "cell_type": "code",
      "metadata": {
        "colab": {
          "base_uri": "https://localhost:8080/"
        },
        "id": "t0Zz8NCoFfoQ",
        "outputId": "619dfb17-6c6b-4f8e-c139-50f8e094d437"
      },
      "source": [
        "!bash weights/download_weights.sh"
      ],
      "execution_count": null,
      "outputs": [
        {
          "name": "stdout",
          "output_type": "stream",
          "text": [
            "--2021-10-13 21:49:11--  https://pjreddie.com/media/files/yolov3.weights\n",
            "Resolving pjreddie.com (pjreddie.com)... 128.208.4.108\n",
            "Connecting to pjreddie.com (pjreddie.com)|128.208.4.108|:443... connected.\n",
            "HTTP request sent, awaiting response... 200 OK\n",
            "Length: 248007048 (237M) [application/octet-stream]\n",
            "Saving to: ‘yolov3.weights’\n",
            "\n",
            "yolov3.weights      100%[===================>] 236.52M  60.8MB/s    in 4.1s    \n",
            "\n",
            "2021-10-13 21:49:15 (57.1 MB/s) - ‘yolov3.weights’ saved [248007048/248007048]\n",
            "\n",
            "--2021-10-13 21:49:15--  https://pjreddie.com/media/files/yolov3-tiny.weights\n",
            "Resolving pjreddie.com (pjreddie.com)... 128.208.4.108\n",
            "Connecting to pjreddie.com (pjreddie.com)|128.208.4.108|:443... connected.\n",
            "HTTP request sent, awaiting response... 200 OK\n",
            "Length: 35434956 (34M) [application/octet-stream]\n",
            "Saving to: ‘yolov3-tiny.weights’\n",
            "\n",
            "yolov3-tiny.weights 100%[===================>]  33.79M  41.0MB/s    in 0.8s    \n",
            "\n",
            "2021-10-13 21:49:16 (41.0 MB/s) - ‘yolov3-tiny.weights’ saved [35434956/35434956]\n",
            "\n",
            "--2021-10-13 21:49:16--  https://pjreddie.com/media/files/darknet53.conv.74\n",
            "Resolving pjreddie.com (pjreddie.com)... 128.208.4.108\n",
            "Connecting to pjreddie.com (pjreddie.com)|128.208.4.108|:443... connected.\n",
            "HTTP request sent, awaiting response... 200 OK\n",
            "Length: 162482580 (155M) [application/octet-stream]\n",
            "Saving to: ‘darknet53.conv.74’\n",
            "\n",
            "darknet53.conv.74   100%[===================>] 154.96M  55.2MB/s    in 2.8s    \n",
            "\n",
            "2021-10-13 21:49:19 (55.2 MB/s) - ‘darknet53.conv.74’ saved [162482580/162482580]\n",
            "\n"
          ]
        }
      ]
    },
    {
      "cell_type": "code",
      "metadata": {
        "colab": {
          "base_uri": "https://localhost:8080/",
          "height": 1000
        },
        "id": "NN7MPhdNGTBY",
        "outputId": "71874e82-f8f9-40b6-f1c2-b58051d062c8"
      },
      "source": [
        "!pip install roboflow\n",
        "\n",
        "from roboflow import Roboflow\n",
        "rf = Roboflow(api_key=\"LBPBUXJRjzsZXAnOy2Mt\")\n",
        "project = rf.workspace().project(\"hard-hat-sample-m3ljk\")\n",
        "dataset = project.version(2).download(\"yolov5\")"
      ],
      "execution_count": null,
      "outputs": [
        {
          "name": "stdout",
          "output_type": "stream",
          "text": [
            "Collecting roboflow\n",
            "  Downloading roboflow-0.1.8.tar.gz (14 kB)\n",
            "Requirement already satisfied: certifi==2021.5.30 in /usr/local/lib/python3.7/dist-packages (from roboflow) (2021.5.30)\n",
            "Collecting chardet==4.0.0\n",
            "  Downloading chardet-4.0.0-py2.py3-none-any.whl (178 kB)\n",
            "\u001b[K     |████████████████████████████████| 178 kB 6.4 MB/s \n",
            "\u001b[?25hRequirement already satisfied: cycler==0.10.0 in /usr/local/lib/python3.7/dist-packages (from roboflow) (0.10.0)\n",
            "Requirement already satisfied: idna==2.10 in /usr/local/lib/python3.7/dist-packages (from roboflow) (2.10)\n",
            "Collecting kiwisolver==1.3.1\n",
            "  Downloading kiwisolver-1.3.1-cp37-cp37m-manylinux1_x86_64.whl (1.1 MB)\n",
            "\u001b[K     |████████████████████████████████| 1.1 MB 39.7 MB/s \n",
            "\u001b[?25hRequirement already satisfied: matplotlib in /usr/local/lib/python3.7/dist-packages (from roboflow) (3.2.2)\n",
            "Requirement already satisfied: numpy>=1.18.5 in /usr/local/lib/python3.7/dist-packages (from roboflow) (1.19.5)\n",
            "Requirement already satisfied: opencv-python>=4.1.2 in /usr/local/lib/python3.7/dist-packages (from roboflow) (4.1.2.30)\n",
            "Requirement already satisfied: Pillow>=7.1.2 in /usr/local/lib/python3.7/dist-packages (from roboflow) (7.1.2)\n",
            "Requirement already satisfied: pyparsing==2.4.7 in /usr/local/lib/python3.7/dist-packages (from roboflow) (2.4.7)\n",
            "Requirement already satisfied: python-dateutil in /usr/local/lib/python3.7/dist-packages (from roboflow) (2.8.2)\n",
            "Collecting python-dotenv\n",
            "  Downloading python_dotenv-0.19.1-py2.py3-none-any.whl (17 kB)\n",
            "Requirement already satisfied: requests in /usr/local/lib/python3.7/dist-packages (from roboflow) (2.23.0)\n",
            "Requirement already satisfied: six in /usr/local/lib/python3.7/dist-packages (from roboflow) (1.15.0)\n",
            "Collecting urllib3==1.26.6\n",
            "  Downloading urllib3-1.26.6-py2.py3-none-any.whl (138 kB)\n",
            "\u001b[K     |████████████████████████████████| 138 kB 47.5 MB/s \n",
            "\u001b[?25hCollecting wget\n",
            "  Downloading wget-3.2.zip (10 kB)\n",
            "Requirement already satisfied: tqdm>=4.41.0 in /usr/local/lib/python3.7/dist-packages (from roboflow) (4.62.3)\n",
            "Collecting PyYAML>=5.3.1\n",
            "  Downloading PyYAML-6.0-cp37-cp37m-manylinux_2_5_x86_64.manylinux1_x86_64.manylinux_2_12_x86_64.manylinux2010_x86_64.whl (596 kB)\n",
            "\u001b[K     |████████████████████████████████| 596 kB 34.1 MB/s \n",
            "\u001b[?25hCollecting requests\n",
            "  Downloading requests-2.26.0-py2.py3-none-any.whl (62 kB)\n",
            "\u001b[K     |████████████████████████████████| 62 kB 768 kB/s \n",
            "\u001b[?25hRequirement already satisfied: charset-normalizer~=2.0.0 in /usr/local/lib/python3.7/dist-packages (from requests->roboflow) (2.0.6)\n",
            "Building wheels for collected packages: roboflow, wget\n",
            "  Building wheel for roboflow (setup.py) ... \u001b[?25l\u001b[?25hdone\n",
            "  Created wheel for roboflow: filename=roboflow-0.1.8-py3-none-any.whl size=20082 sha256=4b3ccb6750840776436398c091cb4863b6721dd1e30657279e61761514992991\n",
            "  Stored in directory: /root/.cache/pip/wheels/db/11/cc/728f5aaa27dd0a16f49c73090f1ef72ba4701c4c0999eba381\n",
            "  Building wheel for wget (setup.py) ... \u001b[?25l\u001b[?25hdone\n",
            "  Created wheel for wget: filename=wget-3.2-py3-none-any.whl size=9672 sha256=fb6e79402945e114bd349511b0116b71d3200804cb5eaa82aed0e1b2199adfc2\n",
            "  Stored in directory: /root/.cache/pip/wheels/a1/b6/7c/0e63e34eb06634181c63adacca38b79ff8f35c37e3c13e3c02\n",
            "Successfully built roboflow wget\n",
            "Installing collected packages: urllib3, kiwisolver, wget, requests, PyYAML, python-dotenv, chardet, roboflow\n",
            "  Attempting uninstall: urllib3\n",
            "    Found existing installation: urllib3 1.24.3\n",
            "    Uninstalling urllib3-1.24.3:\n",
            "      Successfully uninstalled urllib3-1.24.3\n",
            "  Attempting uninstall: kiwisolver\n",
            "    Found existing installation: kiwisolver 1.3.2\n",
            "    Uninstalling kiwisolver-1.3.2:\n",
            "      Successfully uninstalled kiwisolver-1.3.2\n",
            "  Attempting uninstall: requests\n",
            "    Found existing installation: requests 2.23.0\n",
            "    Uninstalling requests-2.23.0:\n",
            "      Successfully uninstalled requests-2.23.0\n",
            "  Attempting uninstall: PyYAML\n",
            "    Found existing installation: PyYAML 3.13\n",
            "    Uninstalling PyYAML-3.13:\n",
            "      Successfully uninstalled PyYAML-3.13\n",
            "  Attempting uninstall: chardet\n",
            "    Found existing installation: chardet 3.0.4\n",
            "    Uninstalling chardet-3.0.4:\n",
            "      Successfully uninstalled chardet-3.0.4\n",
            "\u001b[31mERROR: pip's dependency resolver does not currently take into account all the packages that are installed. This behaviour is the source of the following dependency conflicts.\n",
            "google-colab 1.0.0 requires requests~=2.23.0, but you have requests 2.26.0 which is incompatible.\n",
            "datascience 0.10.6 requires folium==0.2.1, but you have folium 0.8.3 which is incompatible.\n",
            "albumentations 0.1.12 requires imgaug<0.2.7,>=0.2.5, but you have imgaug 0.2.9 which is incompatible.\u001b[0m\n",
            "Successfully installed PyYAML-6.0 chardet-4.0.0 kiwisolver-1.3.1 python-dotenv-0.19.1 requests-2.26.0 roboflow-0.1.8 urllib3-1.26.6 wget-3.2\n"
          ]
        },
        {
          "data": {
            "application/vnd.colab-display-data+json": {
              "pip_warning": {
                "packages": [
                  "kiwisolver"
                ]
              }
            }
          },
          "metadata": {},
          "output_type": "display_data"
        },
        {
          "name": "stdout",
          "output_type": "stream",
          "text": [
            "loading Roboflow workspace...\n",
            "loading Roboflow project...\n",
            "Downloading Dataset Version Zip in Hard-Hat-Sample-2 to yolov5pytorch: 100% [6384919 / 6384919] bytes\n"
          ]
        },
        {
          "name": "stderr",
          "output_type": "stream",
          "text": [
            "Extracting Dataset Version Zip to Hard-Hat-Sample-2 in yolov5pytorch:: 100%|██████████| 491/491 [00:00<00:00, 633.11it/s]\n"
          ]
        }
      ]
    },
    {
      "cell_type": "code",
      "metadata": {
        "id": "KBdQyaMGGil5"
      },
      "source": [
        "!bash config/create_custom_model.sh 3  # Will create custom model 'yolov3-custom.cfg'"
      ],
      "execution_count": 39,
      "outputs": []
    },
    {
      "cell_type": "code",
      "metadata": {
        "id": "h_x_wFJyzwz1"
      },
      "source": [
        "!python split_train.py\n",
        "!python split_valid.py"
      ],
      "execution_count": 38,
      "outputs": []
    },
    {
      "cell_type": "code",
      "metadata": {
        "colab": {
          "base_uri": "https://localhost:8080/"
        },
        "id": "HatHjIvh36-6",
        "outputId": "8d30de53-dabe-43ac-a02f-b4358820e6de"
      },
      "source": [
        ""
      ],
      "execution_count": 55,
      "outputs": [
        {
          "output_type": "stream",
          "name": "stderr",
          "text": [
            "ERROR:root:File `'yolo-train.py'` not found.\n"
          ]
        }
      ]
    }
  ]
}